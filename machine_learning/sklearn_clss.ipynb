{
  "nbformat": 4,
  "nbformat_minor": 0,
  "metadata": {
    "colab": {
      "name": "sklearn_clss.ipynb",
      "provenance": [],
      "collapsed_sections": [],
      "authorship_tag": "ABX9TyMbje+FbtVHxvpF5Vyk40xe",
      "include_colab_link": true
    },
    "kernelspec": {
      "name": "python3",
      "display_name": "Python 3"
    },
    "language_info": {
      "name": "python"
    }
  },
  "cells": [
    {
      "cell_type": "markdown",
      "metadata": {
        "id": "view-in-github",
        "colab_type": "text"
      },
      "source": [
        "<a href=\"https://colab.research.google.com/github/Marcos-VM-1708/alura_moment/blob/main/sklearn_clss.ipynb\" target=\"_parent\"><img src=\"https://colab.research.google.com/assets/colab-badge.svg\" alt=\"Open In Colab\"/></a>"
      ]
    },
    {
      "cell_type": "markdown",
      "source": [
        "<h1>classificação linear por características</h1>\n"
      ],
      "metadata": {
        "id": "OQ3LikJd3IsA"
      }
    },
    {
      "cell_type": "code",
      "execution_count": null,
      "metadata": {
        "id": "tKh0y40-t9zy"
      },
      "outputs": [],
      "source": [
        "#base de dados treino:\n",
        "dado_1 = [1, 1, 0]\n",
        "dado_2 = [0, 1, 0]\n",
        "dado_3 = [0, 1, 1]\n",
        "\n",
        "#resultado da base de dados treino\n",
        "train_y = [1, 1, 0]\n",
        "train_x = [dado_1,dado_2, dado_3 ]\n",
        "\n",
        "#base de dados teste:\n",
        "dado_x = [0, 0, 1]\n",
        "dado_y = [1, 0, 1]\n",
        "dado_w = [1, 1, 0]\n",
        "\n",
        "#resultado da base de dados teste\n",
        "test_y = [0, 0, 1]\n",
        "test_x = [dado_x, dado_y, dado_w]"
      ]
    },
    {
      "cell_type": "code",
      "source": [
        "#treinando modelo:\n",
        "from sklearn.svm import LinearSVC\n",
        "modelo = LinearSVC()\n",
        "modelo.fit(train_x, train_y)"
      ],
      "metadata": {
        "colab": {
          "base_uri": "https://localhost:8080/"
        },
        "id": "4XdoulRruoeB",
        "outputId": "53e01cdc-4905-4839-998b-18c5eb930e32"
      },
      "execution_count": null,
      "outputs": [
        {
          "output_type": "execute_result",
          "data": {
            "text/plain": [
              "LinearSVC()"
            ]
          },
          "metadata": {},
          "execution_count": 29
        }
      ]
    },
    {
      "cell_type": "code",
      "source": [
        "#prevendo resultado e validando acuracia:\n",
        "from sklearn.metrics import accuracy_score\n",
        "predict = modelo.predict(test_x)\n",
        "acertos = accuracy_score(test_y, predict)\n",
        "print(f\"chute: {predict} \\nrespostas: {test_y}\")\n",
        "print(\"total de acertos: %.f%% \" %(acertos * 100))"
      ],
      "metadata": {
        "colab": {
          "base_uri": "https://localhost:8080/"
        },
        "id": "3_Zy0u6Bz038",
        "outputId": "5cb6a9ce-3886-472a-feb5-16d734810af1"
      },
      "execution_count": null,
      "outputs": [
        {
          "output_type": "stream",
          "name": "stdout",
          "text": [
            "chute: [0 0 1] \n",
            "respostas: [0, 0, 1]\n",
            "total de acertos: 100% \n"
          ]
        }
      ]
    },
    {
      "cell_type": "markdown",
      "source": [
        "<h1>classificação linear em uma base de dados maior</h1>\n"
      ],
      "metadata": {
        "id": "eE-WOmJZ2ZWs"
      }
    },
    {
      "cell_type": "code",
      "source": [
        "from sklearn.model_selection import train_test_split\n",
        "from sklearn.metrics import accuracy_score\n",
        "from sklearn.svm import LinearSVC\n",
        "import pandas as pd\n",
        "\n",
        "#base de dados.csv\n",
        "uri = 'https://gist.githubusercontent.com/guilhermesilveira/2d2efa37d66b6c84a722ea627a897ced/raw/10968b997d885cbded1c92938c7a9912ba41c615/tracking.csv'\n",
        "ds = pd.read_csv(uri)\n",
        "\n",
        "#x = dados não validados\n",
        "#y = resuldado de x\n",
        "x = ds[[\"home\", \"how_it_works\", \"contact\"]]\n",
        "y = ds[\"bought\"]\n",
        "\n",
        "#dividindo x,y teste e x,y treino \n",
        "#seed define aleatoriedade do modelo \n",
        "#stratify balanceia test e treino em finção de y \n",
        "seed = 5\n",
        "train_x, test_x, train_y, test_y = train_test_split(x, y, random_state = seed, test_size=0.25)\n",
        "\n",
        "#treinando # testando modelo\n",
        "modelo = LinearSVC()\n",
        "treino = modelo.fit(train_x, train_y)\n",
        "print(f\"total de dados treino: {len(train_x)}\\n{train_y.value_counts()}\\n\")\n",
        "print(f\"total de dados treino: {len(test_x)}\\n{test_y.value_counts()}\")"
      ],
      "metadata": {
        "id": "Wa5IcHG52Yw_",
        "colab": {
          "base_uri": "https://localhost:8080/"
        },
        "outputId": "d15bba52-bedc-4f5a-9e9b-104be5d81b77"
      },
      "execution_count": null,
      "outputs": [
        {
          "output_type": "stream",
          "name": "stdout",
          "text": [
            "total de dados treino: 74\n",
            "0    49\n",
            "1    25\n",
            "Name: bought, dtype: int64\n",
            "\n",
            "total de dados treino: 25\n",
            "0    17\n",
            "1     8\n",
            "Name: bought, dtype: int64\n"
          ]
        }
      ]
    },
    {
      "cell_type": "code",
      "source": [
        "# testando modelo\n",
        "predict = modelo.predict(test_x)\n",
        "\n",
        "acuracia = accuracy_score(test_y, predict) * 100\n",
        "print(\"acuracia do modelo: %.2f%%\" %(acuracia))"
      ],
      "metadata": {
        "id": "Z8u3jCCwBYat",
        "colab": {
          "base_uri": "https://localhost:8080/"
        },
        "outputId": "9e18867d-f81c-449f-ad7c-7d2eb53022dd"
      },
      "execution_count": null,
      "outputs": [
        {
          "output_type": "stream",
          "name": "stdout",
          "text": [
            "acuracia do modelo: 96.00%\n"
          ]
        }
      ]
    },
    {
      "cell_type": "markdown",
      "source": [
        "<h1>curva de decisões</h1>\n"
      ],
      "metadata": {
        "id": "Xkcb_S3ezikC"
      }
    },
    {
      "cell_type": "code",
      "source": [
        "import pandas as pd\n",
        "#abrindo e tratando base de dados\n",
        "uri = 'https://gist.githubusercontent.com/guilhermesilveira/1b7d5475863c15f484ac495bd70975cf/raw/16aff7a0aee67e7c100a2a48b676a2d2d142f646/projects.csv'\n",
        "dados = pd.read_csv(uri)\n",
        "\n",
        "#deixando projetos finalizados mais claro\n",
        "troca = {1:0, 0:1}\n",
        "dados['finished'] = dados.unfinished.map(troca)\n",
        "dados.head()"
      ],
      "metadata": {
        "colab": {
          "base_uri": "https://localhost:8080/",
          "height": 206
        },
        "id": "0VR2de6fvL-y",
        "outputId": "c79ca4f9-214f-4bc0-e9a4-f0d50409adea"
      },
      "execution_count": null,
      "outputs": [
        {
          "output_type": "execute_result",
          "data": {
            "text/plain": [
              "   unfinished  expected_hours  price  finished\n",
              "0           1              26    192         0\n",
              "1           1              88   9015         0\n",
              "2           1              89   2577         0\n",
              "3           1              42    275         0\n",
              "4           1              39    170         0"
            ],
            "text/html": [
              "\n",
              "  <div id=\"df-9c43d42b-984e-460a-b459-18eaef5ab3e8\">\n",
              "    <div class=\"colab-df-container\">\n",
              "      <div>\n",
              "<style scoped>\n",
              "    .dataframe tbody tr th:only-of-type {\n",
              "        vertical-align: middle;\n",
              "    }\n",
              "\n",
              "    .dataframe tbody tr th {\n",
              "        vertical-align: top;\n",
              "    }\n",
              "\n",
              "    .dataframe thead th {\n",
              "        text-align: right;\n",
              "    }\n",
              "</style>\n",
              "<table border=\"1\" class=\"dataframe\">\n",
              "  <thead>\n",
              "    <tr style=\"text-align: right;\">\n",
              "      <th></th>\n",
              "      <th>unfinished</th>\n",
              "      <th>expected_hours</th>\n",
              "      <th>price</th>\n",
              "      <th>finished</th>\n",
              "    </tr>\n",
              "  </thead>\n",
              "  <tbody>\n",
              "    <tr>\n",
              "      <th>0</th>\n",
              "      <td>1</td>\n",
              "      <td>26</td>\n",
              "      <td>192</td>\n",
              "      <td>0</td>\n",
              "    </tr>\n",
              "    <tr>\n",
              "      <th>1</th>\n",
              "      <td>1</td>\n",
              "      <td>88</td>\n",
              "      <td>9015</td>\n",
              "      <td>0</td>\n",
              "    </tr>\n",
              "    <tr>\n",
              "      <th>2</th>\n",
              "      <td>1</td>\n",
              "      <td>89</td>\n",
              "      <td>2577</td>\n",
              "      <td>0</td>\n",
              "    </tr>\n",
              "    <tr>\n",
              "      <th>3</th>\n",
              "      <td>1</td>\n",
              "      <td>42</td>\n",
              "      <td>275</td>\n",
              "      <td>0</td>\n",
              "    </tr>\n",
              "    <tr>\n",
              "      <th>4</th>\n",
              "      <td>1</td>\n",
              "      <td>39</td>\n",
              "      <td>170</td>\n",
              "      <td>0</td>\n",
              "    </tr>\n",
              "  </tbody>\n",
              "</table>\n",
              "</div>\n",
              "      <button class=\"colab-df-convert\" onclick=\"convertToInteractive('df-9c43d42b-984e-460a-b459-18eaef5ab3e8')\"\n",
              "              title=\"Convert this dataframe to an interactive table.\"\n",
              "              style=\"display:none;\">\n",
              "        \n",
              "  <svg xmlns=\"http://www.w3.org/2000/svg\" height=\"24px\"viewBox=\"0 0 24 24\"\n",
              "       width=\"24px\">\n",
              "    <path d=\"M0 0h24v24H0V0z\" fill=\"none\"/>\n",
              "    <path d=\"M18.56 5.44l.94 2.06.94-2.06 2.06-.94-2.06-.94-.94-2.06-.94 2.06-2.06.94zm-11 1L8.5 8.5l.94-2.06 2.06-.94-2.06-.94L8.5 2.5l-.94 2.06-2.06.94zm10 10l.94 2.06.94-2.06 2.06-.94-2.06-.94-.94-2.06-.94 2.06-2.06.94z\"/><path d=\"M17.41 7.96l-1.37-1.37c-.4-.4-.92-.59-1.43-.59-.52 0-1.04.2-1.43.59L10.3 9.45l-7.72 7.72c-.78.78-.78 2.05 0 2.83L4 21.41c.39.39.9.59 1.41.59.51 0 1.02-.2 1.41-.59l7.78-7.78 2.81-2.81c.8-.78.8-2.07 0-2.86zM5.41 20L4 18.59l7.72-7.72 1.47 1.35L5.41 20z\"/>\n",
              "  </svg>\n",
              "      </button>\n",
              "      \n",
              "  <style>\n",
              "    .colab-df-container {\n",
              "      display:flex;\n",
              "      flex-wrap:wrap;\n",
              "      gap: 12px;\n",
              "    }\n",
              "\n",
              "    .colab-df-convert {\n",
              "      background-color: #E8F0FE;\n",
              "      border: none;\n",
              "      border-radius: 50%;\n",
              "      cursor: pointer;\n",
              "      display: none;\n",
              "      fill: #1967D2;\n",
              "      height: 32px;\n",
              "      padding: 0 0 0 0;\n",
              "      width: 32px;\n",
              "    }\n",
              "\n",
              "    .colab-df-convert:hover {\n",
              "      background-color: #E2EBFA;\n",
              "      box-shadow: 0px 1px 2px rgba(60, 64, 67, 0.3), 0px 1px 3px 1px rgba(60, 64, 67, 0.15);\n",
              "      fill: #174EA6;\n",
              "    }\n",
              "\n",
              "    [theme=dark] .colab-df-convert {\n",
              "      background-color: #3B4455;\n",
              "      fill: #D2E3FC;\n",
              "    }\n",
              "\n",
              "    [theme=dark] .colab-df-convert:hover {\n",
              "      background-color: #434B5C;\n",
              "      box-shadow: 0px 1px 3px 1px rgba(0, 0, 0, 0.15);\n",
              "      filter: drop-shadow(0px 1px 2px rgba(0, 0, 0, 0.3));\n",
              "      fill: #FFFFFF;\n",
              "    }\n",
              "  </style>\n",
              "\n",
              "      <script>\n",
              "        const buttonEl =\n",
              "          document.querySelector('#df-9c43d42b-984e-460a-b459-18eaef5ab3e8 button.colab-df-convert');\n",
              "        buttonEl.style.display =\n",
              "          google.colab.kernel.accessAllowed ? 'block' : 'none';\n",
              "\n",
              "        async function convertToInteractive(key) {\n",
              "          const element = document.querySelector('#df-9c43d42b-984e-460a-b459-18eaef5ab3e8');\n",
              "          const dataTable =\n",
              "            await google.colab.kernel.invokeFunction('convertToInteractive',\n",
              "                                                     [key], {});\n",
              "          if (!dataTable) return;\n",
              "\n",
              "          const docLinkHtml = 'Like what you see? Visit the ' +\n",
              "            '<a target=\"_blank\" href=https://colab.research.google.com/notebooks/data_table.ipynb>data table notebook</a>'\n",
              "            + ' to learn more about interactive tables.';\n",
              "          element.innerHTML = '';\n",
              "          dataTable['output_type'] = 'display_data';\n",
              "          await google.colab.output.renderOutput(dataTable, element);\n",
              "          const docLink = document.createElement('div');\n",
              "          docLink.innerHTML = docLinkHtml;\n",
              "          element.appendChild(docLink);\n",
              "        }\n",
              "      </script>\n",
              "    </div>\n",
              "  </div>\n",
              "  "
            ]
          },
          "metadata": {},
          "execution_count": 11
        }
      ]
    },
    {
      "cell_type": "code",
      "source": [
        "import seaborn as sns\n",
        "#expected_hours, price = x\n",
        "#finished = y\n",
        "                #eixos x e y do ghapic         #cor 0/1          \n",
        "sns.scatterplot(x=\"expected_hours\", y=\"price\", hue = \"finished\",  data=dados)\n",
        "x = dados[[\"expected_hours\", \"price\"]]\n",
        "y = dados[\"finished\"]"
      ],
      "metadata": {
        "colab": {
          "base_uri": "https://localhost:8080/",
          "height": 280
        },
        "id": "hNx2qYmZcsKk",
        "outputId": "9e1f907a-7413-45b9-8a0b-44d2bb96521b"
      },
      "execution_count": null,
      "outputs": [
        {
          "output_type": "display_data",
          "data": {
            "text/plain": [
              "<Figure size 432x288 with 1 Axes>"
            ],
            "image/png": "[encoded data removed]"
          },
          "metadata": {
            "needs_background": "light"
          }
        }
      ]
    },
    {
      "cell_type": "code",
      "source": [
        "from sklearn.model_selection import train_test_split\n",
        "from sklearn.metrics import accuracy_score\n",
        "from sklearn.svm import LinearSVC\n",
        "import matplotlib.pyplot as plt\n",
        "\n",
        "#separador test/treino\n",
        "SEED = 4\n",
        "np.random.seed(SEED)\n",
        "\n",
        "train_x, test_x, train_y, test_y = train_test_split(x, y, test_size=0.10, stratify = y)\n",
        "\n",
        "#treino  linear(não eficiente)\n",
        "modelo = LinearSVC()\n",
        "modelo.fit(train_x, train_y)"
      ],
      "metadata": {
        "colab": {
          "base_uri": "https://localhost:8080/"
        },
        "id": "l7O4g3s4gVwM",
        "outputId": "43f48103-1208-45fe-a551-bd854301fb95"
      },
      "execution_count": null,
      "outputs": [
        {
          "output_type": "stream",
          "name": "stderr",
          "text": [
            "/usr/local/lib/python3.7/dist-packages/sklearn/svm/_base.py:1208: ConvergenceWarning: Liblinear failed to converge, increase the number of iterations.\n",
            "  ConvergenceWarning,\n"
          ]
        },
        {
          "output_type": "execute_result",
          "data": {
            "text/plain": [
              "LinearSVC()"
            ]
          },
          "metadata": {},
          "execution_count": 25
        }
      ]
    },
    {
      "cell_type": "code",
      "source": [
        "#test / validação\n",
        "predict = modelo.predict(test_x)\n",
        "validade = accuracy_score(test_y, predict)\n",
        "print(\"%.2f%%\" %(validade * 100))"
      ],
      "metadata": {
        "colab": {
          "base_uri": "https://localhost:8080/"
        },
        "id": "VnDG4sBklV_u",
        "outputId": "8eb535a0-74f7-4cfe-b688-35e5163bc0e5"
      },
      "execution_count": null,
      "outputs": [
        {
          "output_type": "stream",
          "name": "stdout",
          "text": [
            "56.48%\n"
          ]
        }
      ]
    },
    {
      "cell_type": "code",
      "source": [
        "import numpy as np\n",
        "#eixo x do grafico 0/100 horas\n",
        "x_min, x_max = test_x.expected_hours.min(), test_x.expected_hours.max()\n",
        "#eixo y do grafico de 100/27343 dinheiros\n",
        "y_min, y_max = test_x.price.min(), test_x.price.max()\n",
        "\n",
        "pixels = 100\n",
        "#elementos de x/y mapeado de 100/100\n",
        "eixo_x = np.arange(x_min, x_max, (x_max - x_min) / pixels)\n",
        "eixo_y = np.arange(y_min, y_max, (y_max - y_min) / pixels)\n",
        "\n",
        "xx, yy = np.meshgrid(eixo_x, eixo_y)\n",
        "pontos = np.c_[xx.ravel(), yy.ravel()]\n",
        "pontos\n",
        "Z = modelo.predict(pontos)\n",
        "Z = Z.reshape(xx.shape)\n",
        "Z.shape\n",
        "#acuracia aleatoria devido ao linearSVC\n",
        "plt.contourf(xx, yy, Z, alpha=0.3)\n",
        "plt.scatter(test_x.expected_hours, test_x.price, c=test_y, s=5)"
      ],
      "metadata": {
        "id": "SDzDEupZr6kN",
        "colab": {
          "base_uri": "https://localhost:8080/",
          "height": 320
        },
        "outputId": "0e89d11d-da56-418d-e694-f569524d01be"
      },
      "execution_count": null,
      "outputs": [
        {
          "output_type": "stream",
          "name": "stderr",
          "text": [
            "/usr/local/lib/python3.7/dist-packages/sklearn/base.py:451: UserWarning: X does not have valid feature names, but LinearSVC was fitted with feature names\n",
            "  \"X does not have valid feature names, but\"\n"
          ]
        },
        {
          "output_type": "execute_result",
          "data": {
            "text/plain": [
              "<matplotlib.collections.PathCollection at 0x7fbb19b64910>"
            ]
          },
          "metadata": {},
          "execution_count": 27
        },
        {
          "output_type": "display_data",
          "data": {
            "text/plain": [
              "<Figure size 432x288 with 1 Axes>"
            ],
            "image/png": "[encoded data removed]"
          },
          "metadata": {
            "needs_background": "light"
          }
        }
      ]
    },
    {
      "cell_type": "code",
      "source": [
        "from sklearn.preprocessing import StandardScaler\n",
        "from sklearn.svm import SVC\n",
        "\n",
        "\n",
        "#treino do escalador\n",
        "scaler = StandardScaler()\n",
        "scaler.fit(train_x)\n",
        "train_x = scaler.transform(train_x)\n",
        "test_x = scaler.transform(test_x)\n",
        "\n",
        "modelo = SVC()\n",
        "modelo.fit(train_x, train_y)\n",
        "predict = modelo.predict(test_x)\n",
        "\n",
        "acuracia = accuracy_score(test_y, predict) * 100\n",
        "print(\"A acurácia foi %.2f%%\" % acuracia)"
      ],
      "metadata": {
        "colab": {
          "base_uri": "https://localhost:8080/"
        },
        "id": "_lf59MglIzeV",
        "outputId": "c4c7007d-4098-44fa-82fb-c029cd60d956"
      },
      "execution_count": null,
      "outputs": [
        {
          "output_type": "stream",
          "name": "stdout",
          "text": [
            "A acurácia foi 64.81%\n"
          ]
        }
      ]
    },
    {
      "cell_type": "code",
      "source": [
        "data_x = test_x[:,0]\n",
        "data_y = test_x[:,1]\n",
        "\n",
        "x_min = data_x.min()\n",
        "x_max = data_x.max()\n",
        "y_min = data_y.min()\n",
        "y_max = data_y.max()\n",
        "\n",
        "pixels = 100\n",
        "eixo_x = np.arange(x_min, x_max, (x_max - x_min) / pixels)\n",
        "eixo_y = np.arange(y_min, y_max, (y_max - y_min) / pixels)\n",
        "\n",
        "xx, yy = np.meshgrid(eixo_x, eixo_y)\n",
        "pontos = np.c_[xx.ravel(), yy.ravel()]\n",
        "\n",
        "Z = modelo.predict(pontos)\n",
        "Z = Z.reshape(xx.shape)\n",
        "\n",
        "import matplotlib.pyplot as plt\n",
        "\n",
        "plt.contourf(xx, yy, Z, alpha=0.3)\n",
        "plt.scatter(data_x, data_y, c=test_y, s=1)"
      ],
      "metadata": {
        "colab": {
          "base_uri": "https://localhost:8080/",
          "height": 282
        },
        "id": "aXrxZjZUJSqK",
        "outputId": "55c67bb5-ada2-44d6-a71a-acdde508f663"
      },
      "execution_count": null,
      "outputs": [
        {
          "output_type": "execute_result",
          "data": {
            "text/plain": [
              "<matplotlib.collections.PathCollection at 0x7fbb19b380d0>"
            ]
          },
          "metadata": {},
          "execution_count": 29
        },
        {
          "output_type": "display_data",
          "data": {
            "text/plain": [
              "<Figure size 432x288 with 1 Axes>"
            ],
            "image/png": "[encoded data removed]"
          },
          "metadata": {
            "needs_background": "light"
          }
        }
      ]
    },
    {
      "cell_type": "markdown",
      "source": [
        "<h1>dummys</h1>\n",
        "<b>base de acurácia<b>:"
      ],
      "metadata": {
        "id": "hXVRIdEGtWfa"
      }
    },
    {
      "cell_type": "code",
      "source": [
        "import pandas as pd\n",
        "from datetime import datetime\n",
        "#import ds:\n",
        "uri = \"https://gist.githubusercontent.com/guilhermesilveira/4d1d4a16ccbf6ea4e0a64a38a24ec884/raw/afd05cb0c796d18f3f5a6537053ded308ba94bf7/car-prices.csv\"\n",
        "dados = pd.read_csv(uri)\n",
        "\n",
        "#padronizando ds:\n",
        "\n",
        "#bolean \"sold\"\n",
        "bol = {\"yes\": 1, \"no\": 0}\n",
        "dados.sold = dados.sold.map(bol)\n",
        "\n",
        "#quantidade de anos do carro\n",
        "            #return ano atual\n",
        "ano_atual = datetime.today().year\n",
        "dados['model_year'] = ano_atual - dados.model_year\n",
        "\n",
        "#milhas/km\n",
        "dados['km_per_year'] = round(dados.mileage_per_year * 1.60934)\n",
        "dados = dados.drop(\"mileage_per_year\", axis=1)\n",
        "\n",
        "dados.head()"
      ],
      "metadata": {
        "id": "o4TkcDbp1rnP",
        "colab": {
          "base_uri": "https://localhost:8080/",
          "height": 206
        },
        "outputId": "75329937-8ad3-4504-993f-3dea3e62ec62"
      },
      "execution_count": null,
      "outputs": [
        {
          "output_type": "execute_result",
          "data": {
            "text/plain": [
              "   Unnamed: 0  model_year      price  sold  km_per_year\n",
              "0           0          22   30941.02     1      35085.0\n",
              "1           1          24   40557.96     1      12622.0\n",
              "2           2          16   89627.50     0      11441.0\n",
              "3           3           7   95276.14     0      43167.0\n",
              "4           4           8  117384.68     1      12770.0"
            ],
            "text/html": [
              "\n",
              "  <div id=\"df-3c791fb1-003b-42ee-aaee-57725fb2db93\">\n",
              "    <div class=\"colab-df-container\">\n",
              "      <div>\n",
              "<style scoped>\n",
              "    .dataframe tbody tr th:only-of-type {\n",
              "        vertical-align: middle;\n",
              "    }\n",
              "\n",
              "    .dataframe tbody tr th {\n",
              "        vertical-align: top;\n",
              "    }\n",
              "\n",
              "    .dataframe thead th {\n",
              "        text-align: right;\n",
              "    }\n",
              "</style>\n",
              "<table border=\"1\" class=\"dataframe\">\n",
              "  <thead>\n",
              "    <tr style=\"text-align: right;\">\n",
              "      <th></th>\n",
              "      <th>Unnamed: 0</th>\n",
              "      <th>model_year</th>\n",
              "      <th>price</th>\n",
              "      <th>sold</th>\n",
              "      <th>km_per_year</th>\n",
              "    </tr>\n",
              "  </thead>\n",
              "  <tbody>\n",
              "    <tr>\n",
              "      <th>0</th>\n",
              "      <td>0</td>\n",
              "      <td>22</td>\n",
              "      <td>30941.02</td>\n",
              "      <td>1</td>\n",
              "      <td>35085.0</td>\n",
              "    </tr>\n",
              "    <tr>\n",
              "      <th>1</th>\n",
              "      <td>1</td>\n",
              "      <td>24</td>\n",
              "      <td>40557.96</td>\n",
              "      <td>1</td>\n",
              "      <td>12622.0</td>\n",
              "    </tr>\n",
              "    <tr>\n",
              "      <th>2</th>\n",
              "      <td>2</td>\n",
              "      <td>16</td>\n",
              "      <td>89627.50</td>\n",
              "      <td>0</td>\n",
              "      <td>11441.0</td>\n",
              "    </tr>\n",
              "    <tr>\n",
              "      <th>3</th>\n",
              "      <td>3</td>\n",
              "      <td>7</td>\n",
              "      <td>95276.14</td>\n",
              "      <td>0</td>\n",
              "      <td>43167.0</td>\n",
              "    </tr>\n",
              "    <tr>\n",
              "      <th>4</th>\n",
              "      <td>4</td>\n",
              "      <td>8</td>\n",
              "      <td>117384.68</td>\n",
              "      <td>1</td>\n",
              "      <td>12770.0</td>\n",
              "    </tr>\n",
              "  </tbody>\n",
              "</table>\n",
              "</div>\n",
              "      <button class=\"colab-df-convert\" onclick=\"convertToInteractive('df-3c791fb1-003b-42ee-aaee-57725fb2db93')\"\n",
              "              title=\"Convert this dataframe to an interactive table.\"\n",
              "              style=\"display:none;\">\n",
              "        \n",
              "  <svg xmlns=\"http://www.w3.org/2000/svg\" height=\"24px\"viewBox=\"0 0 24 24\"\n",
              "       width=\"24px\">\n",
              "    <path d=\"M0 0h24v24H0V0z\" fill=\"none\"/>\n",
              "    <path d=\"M18.56 5.44l.94 2.06.94-2.06 2.06-.94-2.06-.94-.94-2.06-.94 2.06-2.06.94zm-11 1L8.5 8.5l.94-2.06 2.06-.94-2.06-.94L8.5 2.5l-.94 2.06-2.06.94zm10 10l.94 2.06.94-2.06 2.06-.94-2.06-.94-.94-2.06-.94 2.06-2.06.94z\"/><path d=\"M17.41 7.96l-1.37-1.37c-.4-.4-.92-.59-1.43-.59-.52 0-1.04.2-1.43.59L10.3 9.45l-7.72 7.72c-.78.78-.78 2.05 0 2.83L4 21.41c.39.39.9.59 1.41.59.51 0 1.02-.2 1.41-.59l7.78-7.78 2.81-2.81c.8-.78.8-2.07 0-2.86zM5.41 20L4 18.59l7.72-7.72 1.47 1.35L5.41 20z\"/>\n",
              "  </svg>\n",
              "      </button>\n",
              "      \n",
              "  <style>\n",
              "    .colab-df-container {\n",
              "      display:flex;\n",
              "      flex-wrap:wrap;\n",
              "      gap: 12px;\n",
              "    }\n",
              "\n",
              "    .colab-df-convert {\n",
              "      background-color: #E8F0FE;\n",
              "      border: none;\n",
              "      border-radius: 50%;\n",
              "      cursor: pointer;\n",
              "      display: none;\n",
              "      fill: #1967D2;\n",
              "      height: 32px;\n",
              "      padding: 0 0 0 0;\n",
              "      width: 32px;\n",
              "    }\n",
              "\n",
              "    .colab-df-convert:hover {\n",
              "      background-color: #E2EBFA;\n",
              "      box-shadow: 0px 1px 2px rgba(60, 64, 67, 0.3), 0px 1px 3px 1px rgba(60, 64, 67, 0.15);\n",
              "      fill: #174EA6;\n",
              "    }\n",
              "\n",
              "    [theme=dark] .colab-df-convert {\n",
              "      background-color: #3B4455;\n",
              "      fill: #D2E3FC;\n",
              "    }\n",
              "\n",
              "    [theme=dark] .colab-df-convert:hover {\n",
              "      background-color: #434B5C;\n",
              "      box-shadow: 0px 1px 3px 1px rgba(0, 0, 0, 0.15);\n",
              "      filter: drop-shadow(0px 1px 2px rgba(0, 0, 0, 0.3));\n",
              "      fill: #FFFFFF;\n",
              "    }\n",
              "  </style>\n",
              "\n",
              "      <script>\n",
              "        const buttonEl =\n",
              "          document.querySelector('#df-3c791fb1-003b-42ee-aaee-57725fb2db93 button.colab-df-convert');\n",
              "        buttonEl.style.display =\n",
              "          google.colab.kernel.accessAllowed ? 'block' : 'none';\n",
              "\n",
              "        async function convertToInteractive(key) {\n",
              "          const element = document.querySelector('#df-3c791fb1-003b-42ee-aaee-57725fb2db93');\n",
              "          const dataTable =\n",
              "            await google.colab.kernel.invokeFunction('convertToInteractive',\n",
              "                                                     [key], {});\n",
              "          if (!dataTable) return;\n",
              "\n",
              "          const docLinkHtml = 'Like what you see? Visit the ' +\n",
              "            '<a target=\"_blank\" href=https://colab.research.google.com/notebooks/data_table.ipynb>data table notebook</a>'\n",
              "            + ' to learn more about interactive tables.';\n",
              "          element.innerHTML = '';\n",
              "          dataTable['output_type'] = 'display_data';\n",
              "          await google.colab.output.renderOutput(dataTable, element);\n",
              "          const docLink = document.createElement('div');\n",
              "          docLink.innerHTML = docLinkHtml;\n",
              "          element.appendChild(docLink);\n",
              "        }\n",
              "      </script>\n",
              "    </div>\n",
              "  </div>\n",
              "  "
            ]
          },
          "metadata": {},
          "execution_count": 3
        }
      ]
    },
    {
      "cell_type": "code",
      "source": [
        "import numpy as np\n",
        "from sklearn.model_selection import train_test_split\n",
        "from sklearn.svm import LinearSVC\n",
        "from sklearn.metrics import accuracy_score\n",
        "\n",
        "y = dados[\"sold\"]\n",
        "x = dados[[\"price\", \"km_per_year\", \"model_year\"]]\n",
        "\n",
        "x_train, x_test, y_train, y_test = train_test_split(x, y, test_size = 0.10, stratify = y)"
      ],
      "metadata": {
        "id": "HTGGr9oir_A9"
      },
      "execution_count": null,
      "outputs": []
    },
    {
      "cell_type": "code",
      "source": [
        "from sklearn.dummy import DummyClassifier\n",
        "#mais frequencia de resultados\n",
        "dummy_mostfrequent = DummyClassifier()\n",
        "dummy_mostfrequent.fit(x_train, y_train)\n",
        "acuracia = dummy_mostfrequent.score(x_test, y_test) * 100\n",
        "\n",
        "print(\"A acurácia do dummy mostfrequent foi %.2f%%\" % acuracia)"
      ],
      "metadata": {
        "colab": {
          "base_uri": "https://localhost:8080/"
        },
        "id": "k-SmNiQ2ugqu",
        "outputId": "670a1d2e-5a4e-4b61-90ea-87c9881609a1"
      },
      "execution_count": null,
      "outputs": [
        {
          "output_type": "stream",
          "name": "stdout",
          "text": [
            "A acurácia do dummy mostfrequent foi 58.00%\n"
          ]
        }
      ]
    },
    {
      "cell_type": "code",
      "source": [
        "from sklearn.dummy import DummyClassifier\n",
        "#dummy base escala \n",
        "dummy_stratified = DummyClassifier()\n",
        "dummy_stratified.fit(x_train, y_train)\n",
        "acuracia = dummy_stratified.score(x_test, y_test) * 100\n",
        "\n",
        "print(\"A acurácia do dummy stratified foi %.2f%%\" % acuracia)"
      ],
      "metadata": {
        "colab": {
          "base_uri": "https://localhost:8080/"
        },
        "id": "BcuKpb9DtWJR",
        "outputId": "1a8bcbb9-0f26-4d67-ebbe-76462e3d01ff"
      },
      "execution_count": null,
      "outputs": [
        {
          "output_type": "stream",
          "name": "stdout",
          "text": [
            "A acurácia do dummy stratified foi 58.00%\n"
          ]
        }
      ]
    },
    {
      "cell_type": "markdown",
      "source": [
        "<h1>árvore de decisão</h2>\n",
        "<b><q>visualização de decisões</q></b>"
      ],
      "metadata": {
        "id": "6WAQb_bevMt6"
      }
    },
    {
      "cell_type": "code",
      "source": [
        "#visualizador\n",
        "!pip install graphviz==0.10\n",
        "!apt-get install graphviz"
      ],
      "metadata": {
        "id": "GKM_ShVknqQ9"
      },
      "execution_count": null,
      "outputs": []
    },
    {
      "cell_type": "code",
      "source": [
        "import pandas as pd\n",
        "from datetime import datetime\n",
        "#import ds:\n",
        "uri = \"https://gist.githubusercontent.com/guilhermesilveira/4d1d4a16ccbf6ea4e0a64a38a24ec884/raw/afd05cb0c796d18f3f5a6537053ded308ba94bf7/car-prices.csv\"\n",
        "dados = pd.read_csv(uri)\n",
        "\n",
        "#padronizando ds:\n",
        "\n",
        "#bolean \"sold\"\n",
        "bol = {\"yes\": 1, \"no\": 0}\n",
        "dados.sold = dados.sold.map(bol)\n",
        "\n",
        "#quantidade de anos do carro\n",
        "            #return ano atual\n",
        "ano_atual = datetime.today().year\n",
        "dados['model_year'] = ano_atual - dados.model_year\n",
        "\n",
        "#milhas/km\n",
        "dados['km_per_year'] = round(dados.mileage_per_year * 1.60934)\n",
        "dados = dados.drop(\"mileage_per_year\", axis=1)\n",
        "\n",
        "dados.head()"
      ],
      "metadata": {
        "colab": {
          "base_uri": "https://localhost:8080/",
          "height": 206
        },
        "id": "QzS0qYFvn3AP",
        "outputId": "9d0c2e72-de51-487e-cc7c-509ab07dd3a4"
      },
      "execution_count": 2,
      "outputs": [
        {
          "output_type": "execute_result",
          "data": {
            "text/plain": [
              "   Unnamed: 0  model_year      price  sold  km_per_year\n",
              "0           0          22   30941.02     1      35085.0\n",
              "1           1          24   40557.96     1      12622.0\n",
              "2           2          16   89627.50     0      11441.0\n",
              "3           3           7   95276.14     0      43167.0\n",
              "4           4           8  117384.68     1      12770.0"
            ],
            "text/html": [
              "\n",
              "  <div id=\"df-dac7b762-70e7-4be5-af4e-0ae5da587b9e\">\n",
              "    <div class=\"colab-df-container\">\n",
              "      <div>\n",
              "<style scoped>\n",
              "    .dataframe tbody tr th:only-of-type {\n",
              "        vertical-align: middle;\n",
              "    }\n",
              "\n",
              "    .dataframe tbody tr th {\n",
              "        vertical-align: top;\n",
              "    }\n",
              "\n",
              "    .dataframe thead th {\n",
              "        text-align: right;\n",
              "    }\n",
              "</style>\n",
              "<table border=\"1\" class=\"dataframe\">\n",
              "  <thead>\n",
              "    <tr style=\"text-align: right;\">\n",
              "      <th></th>\n",
              "      <th>Unnamed: 0</th>\n",
              "      <th>model_year</th>\n",
              "      <th>price</th>\n",
              "      <th>sold</th>\n",
              "      <th>km_per_year</th>\n",
              "    </tr>\n",
              "  </thead>\n",
              "  <tbody>\n",
              "    <tr>\n",
              "      <th>0</th>\n",
              "      <td>0</td>\n",
              "      <td>22</td>\n",
              "      <td>30941.02</td>\n",
              "      <td>1</td>\n",
              "      <td>35085.0</td>\n",
              "    </tr>\n",
              "    <tr>\n",
              "      <th>1</th>\n",
              "      <td>1</td>\n",
              "      <td>24</td>\n",
              "      <td>40557.96</td>\n",
              "      <td>1</td>\n",
              "      <td>12622.0</td>\n",
              "    </tr>\n",
              "    <tr>\n",
              "      <th>2</th>\n",
              "      <td>2</td>\n",
              "      <td>16</td>\n",
              "      <td>89627.50</td>\n",
              "      <td>0</td>\n",
              "      <td>11441.0</td>\n",
              "    </tr>\n",
              "    <tr>\n",
              "      <th>3</th>\n",
              "      <td>3</td>\n",
              "      <td>7</td>\n",
              "      <td>95276.14</td>\n",
              "      <td>0</td>\n",
              "      <td>43167.0</td>\n",
              "    </tr>\n",
              "    <tr>\n",
              "      <th>4</th>\n",
              "      <td>4</td>\n",
              "      <td>8</td>\n",
              "      <td>117384.68</td>\n",
              "      <td>1</td>\n",
              "      <td>12770.0</td>\n",
              "    </tr>\n",
              "  </tbody>\n",
              "</table>\n",
              "</div>\n",
              "      <button class=\"colab-df-convert\" onclick=\"convertToInteractive('df-dac7b762-70e7-4be5-af4e-0ae5da587b9e')\"\n",
              "              title=\"Convert this dataframe to an interactive table.\"\n",
              "              style=\"display:none;\">\n",
              "        \n",
              "  <svg xmlns=\"http://www.w3.org/2000/svg\" height=\"24px\"viewBox=\"0 0 24 24\"\n",
              "       width=\"24px\">\n",
              "    <path d=\"M0 0h24v24H0V0z\" fill=\"none\"/>\n",
              "    <path d=\"M18.56 5.44l.94 2.06.94-2.06 2.06-.94-2.06-.94-.94-2.06-.94 2.06-2.06.94zm-11 1L8.5 8.5l.94-2.06 2.06-.94-2.06-.94L8.5 2.5l-.94 2.06-2.06.94zm10 10l.94 2.06.94-2.06 2.06-.94-2.06-.94-.94-2.06-.94 2.06-2.06.94z\"/><path d=\"M17.41 7.96l-1.37-1.37c-.4-.4-.92-.59-1.43-.59-.52 0-1.04.2-1.43.59L10.3 9.45l-7.72 7.72c-.78.78-.78 2.05 0 2.83L4 21.41c.39.39.9.59 1.41.59.51 0 1.02-.2 1.41-.59l7.78-7.78 2.81-2.81c.8-.78.8-2.07 0-2.86zM5.41 20L4 18.59l7.72-7.72 1.47 1.35L5.41 20z\"/>\n",
              "  </svg>\n",
              "      </button>\n",
              "      \n",
              "  <style>\n",
              "    .colab-df-container {\n",
              "      display:flex;\n",
              "      flex-wrap:wrap;\n",
              "      gap: 12px;\n",
              "    }\n",
              "\n",
              "    .colab-df-convert {\n",
              "      background-color: #E8F0FE;\n",
              "      border: none;\n",
              "      border-radius: 50%;\n",
              "      cursor: pointer;\n",
              "      display: none;\n",
              "      fill: #1967D2;\n",
              "      height: 32px;\n",
              "      padding: 0 0 0 0;\n",
              "      width: 32px;\n",
              "    }\n",
              "\n",
              "    .colab-df-convert:hover {\n",
              "      background-color: #E2EBFA;\n",
              "      box-shadow: 0px 1px 2px rgba(60, 64, 67, 0.3), 0px 1px 3px 1px rgba(60, 64, 67, 0.15);\n",
              "      fill: #174EA6;\n",
              "    }\n",
              "\n",
              "    [theme=dark] .colab-df-convert {\n",
              "      background-color: #3B4455;\n",
              "      fill: #D2E3FC;\n",
              "    }\n",
              "\n",
              "    [theme=dark] .colab-df-convert:hover {\n",
              "      background-color: #434B5C;\n",
              "      box-shadow: 0px 1px 3px 1px rgba(0, 0, 0, 0.15);\n",
              "      filter: drop-shadow(0px 1px 2px rgba(0, 0, 0, 0.3));\n",
              "      fill: #FFFFFF;\n",
              "    }\n",
              "  </style>\n",
              "\n",
              "      <script>\n",
              "        const buttonEl =\n",
              "          document.querySelector('#df-dac7b762-70e7-4be5-af4e-0ae5da587b9e button.colab-df-convert');\n",
              "        buttonEl.style.display =\n",
              "          google.colab.kernel.accessAllowed ? 'block' : 'none';\n",
              "\n",
              "        async function convertToInteractive(key) {\n",
              "          const element = document.querySelector('#df-dac7b762-70e7-4be5-af4e-0ae5da587b9e');\n",
              "          const dataTable =\n",
              "            await google.colab.kernel.invokeFunction('convertToInteractive',\n",
              "                                                     [key], {});\n",
              "          if (!dataTable) return;\n",
              "\n",
              "          const docLinkHtml = 'Like what you see? Visit the ' +\n",
              "            '<a target=\"_blank\" href=https://colab.research.google.com/notebooks/data_table.ipynb>data table notebook</a>'\n",
              "            + ' to learn more about interactive tables.';\n",
              "          element.innerHTML = '';\n",
              "          dataTable['output_type'] = 'display_data';\n",
              "          await google.colab.output.renderOutput(dataTable, element);\n",
              "          const docLink = document.createElement('div');\n",
              "          docLink.innerHTML = docLinkHtml;\n",
              "          element.appendChild(docLink);\n",
              "        }\n",
              "      </script>\n",
              "    </div>\n",
              "  </div>\n",
              "  "
            ]
          },
          "metadata": {},
          "execution_count": 2
        }
      ]
    },
    {
      "cell_type": "code",
      "source": [
        "import numpy as np\n",
        "from sklearn.model_selection import train_test_split\n",
        "from sklearn.metrics import accuracy_score\n",
        "from sklearn.tree import DecisionTreeClassifier\n",
        "\n",
        "y = dados[\"sold\"]\n",
        "x = dados[[\"price\", \"km_per_year\", \"model_year\"]]\n",
        "\n",
        "x_train, x_test, y_train, y_test = train_test_split(x, y, test_size = 0.10, stratify = y)"
      ],
      "metadata": {
        "id": "J2WU5GqGoTTr"
      },
      "execution_count": 4,
      "outputs": []
    },
    {
      "cell_type": "code",
      "source": [
        "\n",
        "         #estimador(arvore)    #maximo de galhos  \n",
        "modelo = DecisionTreeClassifier(max_depth=3)\n",
        "modelo.fit(x_train, y_train)\n",
        "previsoes = modelo.predict(x_test)\n",
        "\n",
        "acuracia = accuracy_score(y_test, previsoes) * 100\n",
        "print(\"A acurácia do dummy stratified foi %.2f%%\" % acuracia)"
      ],
      "metadata": {
        "colab": {
          "base_uri": "https://localhost:8080/"
        },
        "id": "boYrCz9qoWfa",
        "outputId": "1a260ce1-edf2-458e-c549-c9d4d419a8bd"
      },
      "execution_count": 7,
      "outputs": [
        {
          "output_type": "stream",
          "name": "stdout",
          "text": [
            "A acurácia do dummy stratified foi 81.60%\n"
          ]
        }
      ]
    },
    {
      "cell_type": "code",
      "source": [
        "from sklearn.tree import export_graphviz\n",
        "import graphviz\n",
        "\n",
        "features = x.columns\n",
        "dot_data = export_graphviz(modelo, out_file=None,\n",
        "                           filled = True, rounded = True,\n",
        "                           feature_names = features,\n",
        "                          class_names = [\"não\", \"sim\"])\n",
        "grafico = graphviz.Source(dot_data)\n",
        "grafico"
      ],
      "metadata": {
        "colab": {
          "base_uri": "https://localhost:8080/",
          "height": 600
        },
        "id": "yeORgCfxp2nR",
        "outputId": "d35f9f96-c493-46f5-a3e4-e388b739aeb4"
      },
      "execution_count": 8,
      "outputs": [
        {
          "output_type": "execute_result",
          "data": {
            "text/plain": [
              "<graphviz.files.Source at 0x7f35fbcdee90>"
            ],
            "image/svg+xml": "<?xml version=\"1.0\" encoding=\"UTF-8\" standalone=\"no\"?>\n<!DOCTYPE svg PUBLIC \"-//W3C//DTD SVG 1.1//EN\"\n \"http://www.w3.org/Graphics/SVG/1.1/DTD/svg11.dtd\">\n<!-- Generated by graphviz version 2.40.1 (20161225.0304)\n -->\n<!-- Title: Tree Pages: 1 -->\n<svg width=\"901pt\" height=\"433pt\"\n viewBox=\"0.00 0.00 901.00 433.00\" xmlns=\"http://www.w3.org/2000/svg\" xmlns:xlink=\"http://www.w3.org/1999/xlink\">\n<g id=\"graph0\" class=\"graph\" transform=\"scale(1 1) rotate(0) translate(4 429)\">\n<title>Tree</title>\n<polygon fill=\"#ffffff\" stroke=\"transparent\" points=\"-4,4 -4,-429 897,-429 897,4 -4,4\"/>\n<!-- 0 -->\n<g id=\"node1\" class=\"node\">\n<title>0</title>\n<path fill=\"#c8e4f8\" stroke=\"#000000\" d=\"M364.5,-425C364.5,-425 239.5,-425 239.5,-425 233.5,-425 227.5,-419 227.5,-413 227.5,-413 227.5,-354 227.5,-354 227.5,-348 233.5,-342 239.5,-342 239.5,-342 364.5,-342 364.5,-342 370.5,-342 376.5,-348 376.5,-354 376.5,-354 376.5,-413 376.5,-413 376.5,-419 370.5,-425 364.5,-425\"/>\n<text text-anchor=\"middle\" x=\"302\" y=\"-409.8\" font-family=\"Helvetica,sans-Serif\" font-size=\"14.00\" fill=\"#000000\">price &lt;= 59982.246</text>\n<text text-anchor=\"middle\" x=\"302\" y=\"-394.8\" font-family=\"Helvetica,sans-Serif\" font-size=\"14.00\" fill=\"#000000\">gini = 0.487</text>\n<text text-anchor=\"middle\" x=\"302\" y=\"-379.8\" font-family=\"Helvetica,sans-Serif\" font-size=\"14.00\" fill=\"#000000\">samples = 9000</text>\n<text text-anchor=\"middle\" x=\"302\" y=\"-364.8\" font-family=\"Helvetica,sans-Serif\" font-size=\"14.00\" fill=\"#000000\">value = [3780, 5220]</text>\n<text text-anchor=\"middle\" x=\"302\" y=\"-349.8\" font-family=\"Helvetica,sans-Serif\" font-size=\"14.00\" fill=\"#000000\">class = sim</text>\n</g>\n<!-- 1 -->\n<g id=\"node2\" class=\"node\">\n<title>1</title>\n<path fill=\"#52aae8\" stroke=\"#000000\" d=\"M272,-306C272,-306 154,-306 154,-306 148,-306 142,-300 142,-294 142,-294 142,-235 142,-235 142,-229 148,-223 154,-223 154,-223 272,-223 272,-223 278,-223 284,-229 284,-235 284,-235 284,-294 284,-294 284,-300 278,-306 272,-306\"/>\n<text text-anchor=\"middle\" x=\"213\" y=\"-290.8\" font-family=\"Helvetica,sans-Serif\" font-size=\"14.00\" fill=\"#000000\">price &lt;= 40083.385</text>\n<text text-anchor=\"middle\" x=\"213\" y=\"-275.8\" font-family=\"Helvetica,sans-Serif\" font-size=\"14.00\" fill=\"#000000\">gini = 0.201</text>\n<text text-anchor=\"middle\" x=\"213\" y=\"-260.8\" font-family=\"Helvetica,sans-Serif\" font-size=\"14.00\" fill=\"#000000\">samples = 3900</text>\n<text text-anchor=\"middle\" x=\"213\" y=\"-245.8\" font-family=\"Helvetica,sans-Serif\" font-size=\"14.00\" fill=\"#000000\">value = [442, 3458]</text>\n<text text-anchor=\"middle\" x=\"213\" y=\"-230.8\" font-family=\"Helvetica,sans-Serif\" font-size=\"14.00\" fill=\"#000000\">class = sim</text>\n</g>\n<!-- 0&#45;&gt;1 -->\n<g id=\"edge1\" class=\"edge\">\n<title>0&#45;&gt;1</title>\n<path fill=\"none\" stroke=\"#000000\" d=\"M270.8721,-341.8796C264.271,-333.0534 257.2371,-323.6485 250.4298,-314.5466\"/>\n<polygon fill=\"#000000\" stroke=\"#000000\" points=\"253.0528,-312.2099 244.2607,-306.2981 247.4472,-316.4024 253.0528,-312.2099\"/>\n<text text-anchor=\"middle\" x=\"240.6919\" y=\"-327.342\" font-family=\"Helvetica,sans-Serif\" font-size=\"14.00\" fill=\"#000000\">True</text>\n</g>\n<!-- 6 -->\n<g id=\"node7\" class=\"node\">\n<title>6</title>\n<path fill=\"#f3c4a2\" stroke=\"#000000\" d=\"M532.5,-306C532.5,-306 377.5,-306 377.5,-306 371.5,-306 365.5,-300 365.5,-294 365.5,-294 365.5,-235 365.5,-235 365.5,-229 371.5,-223 377.5,-223 377.5,-223 532.5,-223 532.5,-223 538.5,-223 544.5,-229 544.5,-235 544.5,-235 544.5,-294 544.5,-294 544.5,-300 538.5,-306 532.5,-306\"/>\n<text text-anchor=\"middle\" x=\"455\" y=\"-290.8\" font-family=\"Helvetica,sans-Serif\" font-size=\"14.00\" fill=\"#000000\">km_per_year &lt;= 24124.0</text>\n<text text-anchor=\"middle\" x=\"455\" y=\"-275.8\" font-family=\"Helvetica,sans-Serif\" font-size=\"14.00\" fill=\"#000000\">gini = 0.452</text>\n<text text-anchor=\"middle\" x=\"455\" y=\"-260.8\" font-family=\"Helvetica,sans-Serif\" font-size=\"14.00\" fill=\"#000000\">samples = 5100</text>\n<text text-anchor=\"middle\" x=\"455\" y=\"-245.8\" font-family=\"Helvetica,sans-Serif\" font-size=\"14.00\" fill=\"#000000\">value = [3338, 1762]</text>\n<text text-anchor=\"middle\" x=\"455\" y=\"-230.8\" font-family=\"Helvetica,sans-Serif\" font-size=\"14.00\" fill=\"#000000\">class = não</text>\n</g>\n<!-- 0&#45;&gt;6 -->\n<g id=\"edge6\" class=\"edge\">\n<title>0&#45;&gt;6</title>\n<path fill=\"none\" stroke=\"#000000\" d=\"M355.512,-341.8796C367.7412,-332.368 380.8344,-322.1843 393.3732,-312.432\"/>\n<polygon fill=\"#000000\" stroke=\"#000000\" points=\"395.7735,-314.9991 401.5182,-306.0969 391.4759,-309.4736 395.7735,-314.9991\"/>\n<text text-anchor=\"middle\" x=\"398.4174\" y=\"-327.2039\" font-family=\"Helvetica,sans-Serif\" font-size=\"14.00\" fill=\"#000000\">False</text>\n</g>\n<!-- 2 -->\n<g id=\"node3\" class=\"node\">\n<title>2</title>\n<path fill=\"#399de5\" stroke=\"#000000\" d=\"M112,-179.5C112,-179.5 12,-179.5 12,-179.5 6,-179.5 0,-173.5 0,-167.5 0,-167.5 0,-123.5 0,-123.5 0,-117.5 6,-111.5 12,-111.5 12,-111.5 112,-111.5 112,-111.5 118,-111.5 124,-117.5 124,-123.5 124,-123.5 124,-167.5 124,-167.5 124,-173.5 118,-179.5 112,-179.5\"/>\n<text text-anchor=\"middle\" x=\"62\" y=\"-164.3\" font-family=\"Helvetica,sans-Serif\" font-size=\"14.00\" fill=\"#000000\">gini = 0.0</text>\n<text text-anchor=\"middle\" x=\"62\" y=\"-149.3\" font-family=\"Helvetica,sans-Serif\" font-size=\"14.00\" fill=\"#000000\">samples = 1740</text>\n<text text-anchor=\"middle\" x=\"62\" y=\"-134.3\" font-family=\"Helvetica,sans-Serif\" font-size=\"14.00\" fill=\"#000000\">value = [0, 1740]</text>\n<text text-anchor=\"middle\" x=\"62\" y=\"-119.3\" font-family=\"Helvetica,sans-Serif\" font-size=\"14.00\" fill=\"#000000\">class = sim</text>\n</g>\n<!-- 1&#45;&gt;2 -->\n<g id=\"edge2\" class=\"edge\">\n<title>1&#45;&gt;2</title>\n<path fill=\"none\" stroke=\"#000000\" d=\"M160.1875,-222.8796C145.1183,-211.0038 128.7197,-198.0804 113.7166,-186.2568\"/>\n<polygon fill=\"#000000\" stroke=\"#000000\" points=\"115.5631,-183.2557 105.5425,-179.8149 111.2302,-188.7536 115.5631,-183.2557\"/>\n</g>\n<!-- 3 -->\n<g id=\"node4\" class=\"node\">\n<title>3</title>\n<path fill=\"#6cb6ec\" stroke=\"#000000\" d=\"M272,-187C272,-187 154,-187 154,-187 148,-187 142,-181 142,-175 142,-175 142,-116 142,-116 142,-110 148,-104 154,-104 154,-104 272,-104 272,-104 278,-104 284,-110 284,-116 284,-116 284,-175 284,-175 284,-181 278,-187 272,-187\"/>\n<text text-anchor=\"middle\" x=\"213\" y=\"-171.8\" font-family=\"Helvetica,sans-Serif\" font-size=\"14.00\" fill=\"#000000\">price &lt;= 41083.818</text>\n<text text-anchor=\"middle\" x=\"213\" y=\"-156.8\" font-family=\"Helvetica,sans-Serif\" font-size=\"14.00\" fill=\"#000000\">gini = 0.326</text>\n<text text-anchor=\"middle\" x=\"213\" y=\"-141.8\" font-family=\"Helvetica,sans-Serif\" font-size=\"14.00\" fill=\"#000000\">samples = 2160</text>\n<text text-anchor=\"middle\" x=\"213\" y=\"-126.8\" font-family=\"Helvetica,sans-Serif\" font-size=\"14.00\" fill=\"#000000\">value = [442, 1718]</text>\n<text text-anchor=\"middle\" x=\"213\" y=\"-111.8\" font-family=\"Helvetica,sans-Serif\" font-size=\"14.00\" fill=\"#000000\">class = sim</text>\n</g>\n<!-- 1&#45;&gt;3 -->\n<g id=\"edge3\" class=\"edge\">\n<title>1&#45;&gt;3</title>\n<path fill=\"none\" stroke=\"#000000\" d=\"M213,-222.8796C213,-214.6838 213,-205.9891 213,-197.5013\"/>\n<polygon fill=\"#000000\" stroke=\"#000000\" points=\"216.5001,-197.298 213,-187.2981 209.5001,-197.2981 216.5001,-197.298\"/>\n</g>\n<!-- 4 -->\n<g id=\"node5\" class=\"node\">\n<title>4</title>\n<path fill=\"#99cdf2\" stroke=\"#000000\" d=\"M113,-68C113,-68 21,-68 21,-68 15,-68 9,-62 9,-56 9,-56 9,-12 9,-12 9,-6 15,0 21,0 21,0 113,0 113,0 119,0 125,-6 125,-12 125,-12 125,-56 125,-56 125,-62 119,-68 113,-68\"/>\n<text text-anchor=\"middle\" x=\"67\" y=\"-52.8\" font-family=\"Helvetica,sans-Serif\" font-size=\"14.00\" fill=\"#000000\">gini = 0.44</text>\n<text text-anchor=\"middle\" x=\"67\" y=\"-37.8\" font-family=\"Helvetica,sans-Serif\" font-size=\"14.00\" fill=\"#000000\">samples = 101</text>\n<text text-anchor=\"middle\" x=\"67\" y=\"-22.8\" font-family=\"Helvetica,sans-Serif\" font-size=\"14.00\" fill=\"#000000\">value = [33, 68]</text>\n<text text-anchor=\"middle\" x=\"67\" y=\"-7.8\" font-family=\"Helvetica,sans-Serif\" font-size=\"14.00\" fill=\"#000000\">class = sim</text>\n</g>\n<!-- 3&#45;&gt;4 -->\n<g id=\"edge4\" class=\"edge\">\n<title>3&#45;&gt;4</title>\n<path fill=\"none\" stroke=\"#000000\" d=\"M158.635,-103.9815C145.9989,-94.3313 132.5644,-84.0714 119.9885,-74.4673\"/>\n<polygon fill=\"#000000\" stroke=\"#000000\" points=\"121.9372,-71.5515 111.8654,-68.2637 117.6886,-77.1148 121.9372,-71.5515\"/>\n</g>\n<!-- 5 -->\n<g id=\"node6\" class=\"node\">\n<title>5</title>\n<path fill=\"#6ab5eb\" stroke=\"#000000\" d=\"M271,-68C271,-68 155,-68 155,-68 149,-68 143,-62 143,-56 143,-56 143,-12 143,-12 143,-6 149,0 155,0 155,0 271,0 271,0 277,0 283,-6 283,-12 283,-12 283,-56 283,-56 283,-62 277,-68 271,-68\"/>\n<text text-anchor=\"middle\" x=\"213\" y=\"-52.8\" font-family=\"Helvetica,sans-Serif\" font-size=\"14.00\" fill=\"#000000\">gini = 0.318</text>\n<text text-anchor=\"middle\" x=\"213\" y=\"-37.8\" font-family=\"Helvetica,sans-Serif\" font-size=\"14.00\" fill=\"#000000\">samples = 2059</text>\n<text text-anchor=\"middle\" x=\"213\" y=\"-22.8\" font-family=\"Helvetica,sans-Serif\" font-size=\"14.00\" fill=\"#000000\">value = [409, 1650]</text>\n<text text-anchor=\"middle\" x=\"213\" y=\"-7.8\" font-family=\"Helvetica,sans-Serif\" font-size=\"14.00\" fill=\"#000000\">class = sim</text>\n</g>\n<!-- 3&#45;&gt;5 -->\n<g id=\"edge5\" class=\"edge\">\n<title>3&#45;&gt;5</title>\n<path fill=\"none\" stroke=\"#000000\" d=\"M213,-103.9815C213,-95.618 213,-86.7965 213,-78.3409\"/>\n<polygon fill=\"#000000\" stroke=\"#000000\" points=\"216.5001,-78.2636 213,-68.2637 209.5001,-78.2637 216.5001,-78.2636\"/>\n</g>\n<!-- 7 -->\n<g id=\"node8\" class=\"node\">\n<title>7</title>\n<path fill=\"#fcefe6\" stroke=\"#000000\" d=\"M517.5,-187C517.5,-187 392.5,-187 392.5,-187 386.5,-187 380.5,-181 380.5,-175 380.5,-175 380.5,-116 380.5,-116 380.5,-110 386.5,-104 392.5,-104 392.5,-104 517.5,-104 517.5,-104 523.5,-104 529.5,-110 529.5,-116 529.5,-116 529.5,-175 529.5,-175 529.5,-181 523.5,-187 517.5,-187\"/>\n<text text-anchor=\"middle\" x=\"455\" y=\"-171.8\" font-family=\"Helvetica,sans-Serif\" font-size=\"14.00\" fill=\"#000000\">price &lt;= 99974.41</text>\n<text text-anchor=\"middle\" x=\"455\" y=\"-156.8\" font-family=\"Helvetica,sans-Serif\" font-size=\"14.00\" fill=\"#000000\">gini = 0.498</text>\n<text text-anchor=\"middle\" x=\"455\" y=\"-141.8\" font-family=\"Helvetica,sans-Serif\" font-size=\"14.00\" fill=\"#000000\">samples = 3194</text>\n<text text-anchor=\"middle\" x=\"455\" y=\"-126.8\" font-family=\"Helvetica,sans-Serif\" font-size=\"14.00\" fill=\"#000000\">value = [1703, 1491]</text>\n<text text-anchor=\"middle\" x=\"455\" y=\"-111.8\" font-family=\"Helvetica,sans-Serif\" font-size=\"14.00\" fill=\"#000000\">class = não</text>\n</g>\n<!-- 6&#45;&gt;7 -->\n<g id=\"edge7\" class=\"edge\">\n<title>6&#45;&gt;7</title>\n<path fill=\"none\" stroke=\"#000000\" d=\"M455,-222.8796C455,-214.6838 455,-205.9891 455,-197.5013\"/>\n<polygon fill=\"#000000\" stroke=\"#000000\" points=\"458.5001,-197.298 455,-187.2981 451.5001,-197.2981 458.5001,-197.298\"/>\n</g>\n<!-- 10 -->\n<g id=\"node11\" class=\"node\">\n<title>10</title>\n<path fill=\"#e9965a\" stroke=\"#000000\" d=\"M748,-187C748,-187 622,-187 622,-187 616,-187 610,-181 610,-175 610,-175 610,-116 610,-116 610,-110 616,-104 622,-104 622,-104 748,-104 748,-104 754,-104 760,-110 760,-116 760,-116 760,-175 760,-175 760,-181 754,-187 748,-187\"/>\n<text text-anchor=\"middle\" x=\"685\" y=\"-171.8\" font-family=\"Helvetica,sans-Serif\" font-size=\"14.00\" fill=\"#000000\">price &lt;= 100076.957</text>\n<text text-anchor=\"middle\" x=\"685\" y=\"-156.8\" font-family=\"Helvetica,sans-Serif\" font-size=\"14.00\" fill=\"#000000\">gini = 0.244</text>\n<text text-anchor=\"middle\" x=\"685\" y=\"-141.8\" font-family=\"Helvetica,sans-Serif\" font-size=\"14.00\" fill=\"#000000\">samples = 1906</text>\n<text text-anchor=\"middle\" x=\"685\" y=\"-126.8\" font-family=\"Helvetica,sans-Serif\" font-size=\"14.00\" fill=\"#000000\">value = [1635, 271]</text>\n<text text-anchor=\"middle\" x=\"685\" y=\"-111.8\" font-family=\"Helvetica,sans-Serif\" font-size=\"14.00\" fill=\"#000000\">class = não</text>\n</g>\n<!-- 6&#45;&gt;10 -->\n<g id=\"edge10\" class=\"edge\">\n<title>6&#45;&gt;10</title>\n<path fill=\"none\" stroke=\"#000000\" d=\"M535.4428,-222.8796C556.5258,-211.9715 579.3169,-200.1795 600.6001,-189.1678\"/>\n<polygon fill=\"#000000\" stroke=\"#000000\" points=\"602.3465,-192.205 609.6197,-184.5011 599.1297,-185.9878 602.3465,-192.205\"/>\n</g>\n<!-- 8 -->\n<g id=\"node9\" class=\"node\">\n<title>8</title>\n<path fill=\"#f9e0cf\" stroke=\"#000000\" d=\"M438.5,-68C438.5,-68 313.5,-68 313.5,-68 307.5,-68 301.5,-62 301.5,-56 301.5,-56 301.5,-12 301.5,-12 301.5,-6 307.5,0 313.5,0 313.5,0 438.5,0 438.5,0 444.5,0 450.5,-6 450.5,-12 450.5,-12 450.5,-56 450.5,-56 450.5,-62 444.5,-68 438.5,-68\"/>\n<text text-anchor=\"middle\" x=\"376\" y=\"-52.8\" font-family=\"Helvetica,sans-Serif\" font-size=\"14.00\" fill=\"#000000\">gini = 0.49</text>\n<text text-anchor=\"middle\" x=\"376\" y=\"-37.8\" font-family=\"Helvetica,sans-Serif\" font-size=\"14.00\" fill=\"#000000\">samples = 2674</text>\n<text text-anchor=\"middle\" x=\"376\" y=\"-22.8\" font-family=\"Helvetica,sans-Serif\" font-size=\"14.00\" fill=\"#000000\">value = [1522, 1152]</text>\n<text text-anchor=\"middle\" x=\"376\" y=\"-7.8\" font-family=\"Helvetica,sans-Serif\" font-size=\"14.00\" fill=\"#000000\">class = não</text>\n</g>\n<!-- 7&#45;&gt;8 -->\n<g id=\"edge8\" class=\"edge\">\n<title>7&#45;&gt;8</title>\n<path fill=\"none\" stroke=\"#000000\" d=\"M425.5833,-103.9815C419.2669,-95.0666 412.5818,-85.6313 406.2349,-76.6734\"/>\n<polygon fill=\"#000000\" stroke=\"#000000\" points=\"408.9136,-74.3998 400.2765,-68.2637 403.2019,-78.4466 408.9136,-74.3998\"/>\n</g>\n<!-- 9 -->\n<g id=\"node10\" class=\"node\">\n<title>9</title>\n<path fill=\"#a3d1f3\" stroke=\"#000000\" d=\"M589,-68C589,-68 481,-68 481,-68 475,-68 469,-62 469,-56 469,-56 469,-12 469,-12 469,-6 475,0 481,0 481,0 589,0 589,0 595,0 601,-6 601,-12 601,-12 601,-56 601,-56 601,-62 595,-68 589,-68\"/>\n<text text-anchor=\"middle\" x=\"535\" y=\"-52.8\" font-family=\"Helvetica,sans-Serif\" font-size=\"14.00\" fill=\"#000000\">gini = 0.454</text>\n<text text-anchor=\"middle\" x=\"535\" y=\"-37.8\" font-family=\"Helvetica,sans-Serif\" font-size=\"14.00\" fill=\"#000000\">samples = 520</text>\n<text text-anchor=\"middle\" x=\"535\" y=\"-22.8\" font-family=\"Helvetica,sans-Serif\" font-size=\"14.00\" fill=\"#000000\">value = [181, 339]</text>\n<text text-anchor=\"middle\" x=\"535\" y=\"-7.8\" font-family=\"Helvetica,sans-Serif\" font-size=\"14.00\" fill=\"#000000\">class = sim</text>\n</g>\n<!-- 7&#45;&gt;9 -->\n<g id=\"edge9\" class=\"edge\">\n<title>7&#45;&gt;9</title>\n<path fill=\"none\" stroke=\"#000000\" d=\"M484.789,-103.9815C491.2514,-94.9747 498.0948,-85.4367 504.581,-76.3965\"/>\n<polygon fill=\"#000000\" stroke=\"#000000\" points=\"507.4303,-78.4291 510.4162,-68.2637 501.7428,-74.3483 507.4303,-78.4291\"/>\n</g>\n<!-- 11 -->\n<g id=\"node12\" class=\"node\">\n<title>11</title>\n<path fill=\"#e68742\" stroke=\"#000000\" d=\"M739,-68C739,-68 631,-68 631,-68 625,-68 619,-62 619,-56 619,-56 619,-12 619,-12 619,-6 625,0 631,0 631,0 739,0 739,0 745,0 751,-6 751,-12 751,-12 751,-56 751,-56 751,-62 745,-68 739,-68\"/>\n<text text-anchor=\"middle\" x=\"685\" y=\"-52.8\" font-family=\"Helvetica,sans-Serif\" font-size=\"14.00\" fill=\"#000000\">gini = 0.085</text>\n<text text-anchor=\"middle\" x=\"685\" y=\"-37.8\" font-family=\"Helvetica,sans-Serif\" font-size=\"14.00\" fill=\"#000000\">samples = 1613</text>\n<text text-anchor=\"middle\" x=\"685\" y=\"-22.8\" font-family=\"Helvetica,sans-Serif\" font-size=\"14.00\" fill=\"#000000\">value = [1541, 72]</text>\n<text text-anchor=\"middle\" x=\"685\" y=\"-7.8\" font-family=\"Helvetica,sans-Serif\" font-size=\"14.00\" fill=\"#000000\">class = não</text>\n</g>\n<!-- 10&#45;&gt;11 -->\n<g id=\"edge11\" class=\"edge\">\n<title>10&#45;&gt;11</title>\n<path fill=\"none\" stroke=\"#000000\" d=\"M685,-103.9815C685,-95.618 685,-86.7965 685,-78.3409\"/>\n<polygon fill=\"#000000\" stroke=\"#000000\" points=\"688.5001,-78.2636 685,-68.2637 681.5001,-78.2637 688.5001,-78.2636\"/>\n</g>\n<!-- 12 -->\n<g id=\"node13\" class=\"node\">\n<title>12</title>\n<path fill=\"#97cbf1\" stroke=\"#000000\" d=\"M881,-68C881,-68 781,-68 781,-68 775,-68 769,-62 769,-56 769,-56 769,-12 769,-12 769,-6 775,0 781,0 781,0 881,0 881,0 887,0 893,-6 893,-12 893,-12 893,-56 893,-56 893,-62 887,-68 881,-68\"/>\n<text text-anchor=\"middle\" x=\"831\" y=\"-52.8\" font-family=\"Helvetica,sans-Serif\" font-size=\"14.00\" fill=\"#000000\">gini = 0.436</text>\n<text text-anchor=\"middle\" x=\"831\" y=\"-37.8\" font-family=\"Helvetica,sans-Serif\" font-size=\"14.00\" fill=\"#000000\">samples = 293</text>\n<text text-anchor=\"middle\" x=\"831\" y=\"-22.8\" font-family=\"Helvetica,sans-Serif\" font-size=\"14.00\" fill=\"#000000\">value = [94, 199]</text>\n<text text-anchor=\"middle\" x=\"831\" y=\"-7.8\" font-family=\"Helvetica,sans-Serif\" font-size=\"14.00\" fill=\"#000000\">class = sim</text>\n</g>\n<!-- 10&#45;&gt;12 -->\n<g id=\"edge12\" class=\"edge\">\n<title>10&#45;&gt;12</title>\n<path fill=\"none\" stroke=\"#000000\" d=\"M739.365,-103.9815C752.0011,-94.3313 765.4356,-84.0714 778.0115,-74.4673\"/>\n<polygon fill=\"#000000\" stroke=\"#000000\" points=\"780.3114,-77.1148 786.1346,-68.2637 776.0628,-71.5515 780.3114,-77.1148\"/>\n</g>\n</g>\n</svg>\n"
          },
          "metadata": {},
          "execution_count": 8
        }
      ]
    }
  ]
}