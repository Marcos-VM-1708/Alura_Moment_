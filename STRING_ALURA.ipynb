{
  "nbformat": 4,
  "nbformat_minor": 0,
  "metadata": {
    "colab": {
      "provenance": [],
      "authorship_tag": "ABX9TyMD/KenneaTBwgx/WZDODJL",
      "include_colab_link": true
    },
    "kernelspec": {
      "name": "python3",
      "display_name": "Python 3"
    },
    "language_info": {
      "name": "python"
    }
  },
  "cells": [
    {
      "cell_type": "markdown",
      "metadata": {
        "id": "view-in-github",
        "colab_type": "text"
      },
      "source": [
        "<a href=\"https://colab.research.google.com/github/Marcos-VM-1708/Alura_Moment_/blob/main/STRING_ALURA.ipynb\" target=\"_parent\"><img src=\"https://colab.research.google.com/assets/colab-badge.svg\" alt=\"Open In Colab\"/></a>"
      ]
    },
    {
      "cell_type": "markdown",
      "source": [
        "<h1>\n",
        "url"
      ],
      "metadata": {
        "id": "6quWzfWAprYd"
      }
    },
    {
      "cell_type": "code",
      "execution_count": null,
      "metadata": {
        "id": "6H5_jLv6aDng",
        "colab": {
          "base_uri": "https://localhost:8080/",
          "height": 35
        },
        "outputId": "0cad78d5-05b0-47ae-9aae-05ddb4ee6f4c"
      },
      "outputs": [
        {
          "output_type": "execute_result",
          "data": {
            "text/plain": [
              "'http://bytebank.com/cambio?moedaOrigem=real&moedaDestino=dolar&quantidade=100'"
            ],
            "application/vnd.google.colaboratory.intrinsic+json": {
              "type": "string"
            }
          },
          "metadata": {},
          "execution_count": 34
        }
      ],
      "source": [
        "# url bagunçada \n",
        "url = \"      htt        p:/ /b y t eb ank.com/cam b   io?   moedaOri gem=real&moedaDestino=  d olar&quantidade=100\"\n",
        "url = url.replace(\" \", \"\") # pode ser usado tbm o metodo strip()\n",
        "url"
      ]
    },
    {
      "cell_type": "code",
      "source": [
        "# valida se a url pode ser examinada\n",
        "if url.find(\"?\") < 0:\n",
        "  raise ValueError(\"url invalida\")"
      ],
      "metadata": {
        "id": "aNmA1ROwqRMC"
      },
      "execution_count": null,
      "outputs": []
    },
    {
      "cell_type": "markdown",
      "source": [
        "<h1>\n",
        "Extrator de url\n",
        "</h1>\n",
        "\n",
        "Nota-se que uma url e construida em duas partes a main e os parametros,\n",
        "sendo a construção de uma url: \"main ? parametros\""
      ],
      "metadata": {
        "id": "vCY0KtllbNDV"
      }
    },
    {
      "cell_type": "code",
      "source": [
        "def extrator_url(url):\n",
        "  \n",
        "  index = url.index(\"?\") # pode se usar o metodo find() tambem para buscar o elemento ?\n",
        "\n",
        "  url_main = url[0:index]\n",
        "  url_parm = url[index + 1:len(url)]\n",
        "  \n",
        "  return url_main, url_parm"
      ],
      "metadata": {
        "id": "fSJyfby4epl2"
      },
      "execution_count": null,
      "outputs": []
    },
    {
      "cell_type": "code",
      "source": [
        "x = extrator_url(url)\n",
        "x"
      ],
      "metadata": {
        "colab": {
          "base_uri": "https://localhost:8080/"
        },
        "id": "6nUGsmplglYZ",
        "outputId": "f3d3fcb6-f97f-4d79-db5b-524efb67c685"
      },
      "execution_count": null,
      "outputs": [
        {
          "output_type": "execute_result",
          "data": {
            "text/plain": [
              "('http://bytebank.com/cambio',\n",
              " 'moedaOrigem=real&moedaDestino=dolar&quantidade=100')"
            ]
          },
          "metadata": {},
          "execution_count": 38
        }
      ]
    },
    {
      "cell_type": "markdown",
      "source": [
        "<h1>\n",
        "separando os values dos parametros"
      ],
      "metadata": {
        "id": "mpncDd9CklJ1"
      }
    },
    {
      "cell_type": "code",
      "source": [
        "url = x[1]\n",
        "\n",
        "def extrator_value(parametro):\n",
        "  parametro_locate = url.find(parametro)\n",
        "  parametro_e = url.find(\"&\", parametro_locate)\n",
        "  if parametro_e > 0:\n",
        "    value = url[parametro_locate + len(parametro) + 1 : parametro_e]\n",
        "  else:\n",
        "    value = url[parametro_locate + len(parametro) + 1 : len(url)]\n",
        "  return value\n",
        "\n",
        "extrator_value(\"moedaOrigem\")"
      ],
      "metadata": {
        "colab": {
          "base_uri": "https://localhost:8080/",
          "height": 35
        },
        "id": "WZSEJPCZkZT9",
        "outputId": "96b57f6f-bf8b-4a54-cbe8-b0a80fc088b5"
      },
      "execution_count": null,
      "outputs": [
        {
          "output_type": "execute_result",
          "data": {
            "text/plain": [
              "'real'"
            ],
            "application/vnd.google.colaboratory.intrinsic+json": {
              "type": "string"
            }
          },
          "metadata": {},
          "execution_count": 39
        }
      ]
    },
    {
      "cell_type": "markdown",
      "source": [
        "<h1>\n",
        "deixando o codigo mais organizado "
      ],
      "metadata": {
        "id": "wRCC4lRJoOKW"
      }
    },
    {
      "cell_type": "code",
      "source": [
        "import re\n",
        "\n",
        "url = \"http://bytebank.com/cambio?moedaOrigem=real&moedaDestino=dolar&quantidade=100\"\n",
        "padrao_url = re.compile('(http(s)?://)?(www.)?bytebank.com(.br)?/cambio')\n",
        "match = padrao_url.match(url)\n",
        "if not match:\n",
        "    raise ValueError(\"A URL não é válida.\")\n",
        "print(\"valida\")"
      ],
      "metadata": {
        "id": "BKIY5IuvoaGR",
        "colab": {
          "base_uri": "https://localhost:8080/"
        },
        "outputId": "e1ec250e-60b6-44e0-fd4e-a33540a304f9"
      },
      "execution_count": 15,
      "outputs": [
        {
          "output_type": "stream",
          "name": "stdout",
          "text": [
            "valida\n"
          ]
        }
      ]
    },
    {
      "cell_type": "code",
      "source": [
        "link = \"http://bytebank.com/cambio?moedaOrigem=real&moedaDestino=euro&quantidade=100\"\n",
        "\n",
        "class extrator_url():\n",
        "  # construtor\n",
        "  def __init__(self, url):  \n",
        "    self.url = self.arruma_url(url)\n",
        "    self.validation()\n",
        "\n",
        "  # remove espaços vazios\n",
        "  def arruma_url(self, url):\n",
        "    if type(url) == str:\n",
        "      return url.strip()\n",
        "    else:\n",
        "      return \"\"\n",
        "\n",
        "  # verifica se a url é vazia\n",
        "  def validation(self):\n",
        "    if not self.url:\n",
        "      raise ValueError(\"url invalida\")\n",
        "  \n",
        "  def get_parametros(self):\n",
        "    \n",
        "    index = self.url.index(\"?\") # pode se usar o metodo find() tambem para buscar o elemento ?\n",
        "\n",
        "    url_main = self.url[0:index]\n",
        "    url_parm = self.url[index + 1:]\n",
        "    \n",
        "    return url_main, url_parm\n",
        "\n",
        "    url = x[1]\n",
        "\n",
        "  def extrator_value(self, parametro):\n",
        "    parametro_locate = self.url.find(parametro)\n",
        "    parametro_e = self.url.find(\"&\", parametro_locate)\n",
        "    if parametro_e > 0:\n",
        "      value = self.url[parametro_locate + len(parametro) + 1 : parametro_e]\n",
        "    else:\n",
        "      value = self.url[parametro_locate + len(parametro) + 1 :]\n",
        "    return value\n",
        "\n",
        "  def __len__(self):\n",
        "    return len(self.url)\n",
        "\n",
        "  def __str__(self):\n",
        "      return self.url + \"\\n\" + \"Parâmetros: \" + self.get_url_parametros() + \"\\n\" + \"URL Base: \" + self.get_url_base()\n",
        "\n",
        "  def __eq__(self, other):\n",
        "      return self.url == other.url\n",
        "\n",
        "url = extrator_url(link)\n",
        "print(f\"result:\\ntamanho:{len(url)}\\nurl:{url.get_parametros()}\\nvalores:{url.extrator_value('moedaOrigem'),url.extrator_value('moedaDestino'), url.extrator_value('quantidade') }\")"
      ],
      "metadata": {
        "id": "QUyipHthrSvW",
        "colab": {
          "base_uri": "https://localhost:8080/"
        },
        "outputId": "0ace1cce-f612-46a0-e4e1-3b98225b5507"
      },
      "execution_count": 60,
      "outputs": [
        {
          "output_type": "stream",
          "name": "stdout",
          "text": [
            "result:\n",
            "tamanho:76\n",
            "url:('http://bytebank.com/cambio', 'moedaOrigem=real&moedaDestino=euro&quantidade=100')\n",
            "valores:('real', 'euro', '100')\n"
          ]
        }
      ]
    },
    {
      "cell_type": "markdown",
      "source": [
        "validando url(expreçoes regulares)"
      ],
      "metadata": {
        "id": "A6QYCelCo1-T"
      }
    },
    {
      "cell_type": "markdown",
      "source": [
        "<h1>\n",
        "convertendo real para valores da url"
      ],
      "metadata": {
        "id": "j1baZ9s5jz0N"
      }
    },
    {
      "cell_type": "code",
      "source": [
        "value_1 = url.extrator_value(\"moedaOrigem\")\n",
        "value_2 = url.extrator_value(\"moedaDestino\")\n",
        "proporcao = url.extrator_value(\"quantidade\")\n",
        " \n",
        "\n",
        "def convert_to_real(moeda_2, quantidade):\n",
        "  # valores referente a converção p/ real\n",
        "\n",
        "  bolsa = {\"dolar\": 5.50, \"euro\": 5.20} # ...\n",
        "  value_2 = bolsa[str(moeda_2)]\n",
        "  return float(quantidade) / value_2\n",
        "\n",
        "convercao = convert_to_real(value_2, proporcao)\n",
        "print(f\"converção: \\n{value_1} para {value_2}\\n{proporcao} = {convercao}\")"
      ],
      "metadata": {
        "colab": {
          "base_uri": "https://localhost:8080/"
        },
        "id": "ED-IYVl4UVCp",
        "outputId": "d0c6af7b-64a4-41fe-c940-986f562708a7"
      },
      "execution_count": 44,
      "outputs": [
        {
          "output_type": "stream",
          "name": "stdout",
          "text": [
            "converção: \n",
            "real para euro\n",
            "100 = 19.23076923076923\n"
          ]
        }
      ]
    }
  ]
}